{
 "cells": [
  {
   "cell_type": "markdown",
   "metadata": {},
   "source": [
    "# Q1) Company name"
   ]
  },
  {
   "cell_type": "code",
   "execution_count": 32,
   "metadata": {},
   "outputs": [
    {
     "name": "stdout",
     "output_type": "stream",
     "text": [
      "Enter your email Id: john@google.com\n",
      "\n",
      "\n",
      "google\n"
     ]
    }
   ],
   "source": [
    "email = str(input(\"Enter your email Id: \"))\n",
    "\n",
    "lst = email.split('@')\n",
    "\n",
    "lst2 = lst[1]\n",
    "\n",
    "company = lst2.split('.')\n",
    "\n",
    "print(\"\\n\")\n",
    "print(company[0])"
   ]
  },
  {
   "cell_type": "markdown",
   "metadata": {},
   "source": [
    "# Q2) Sorted List"
   ]
  },
  {
   "cell_type": "code",
   "execution_count": 35,
   "metadata": {},
   "outputs": [
    {
     "name": "stdout",
     "output_type": "stream",
     "text": [
      "Enter the list of items separated by ',': \n",
      "without,hello,bag,world\n",
      "\n",
      "\n",
      "['bag', 'hello', 'without', 'world']\n"
     ]
    }
   ],
   "source": [
    "lst = str(input(\"Enter the list of items separated by ',': \\n\"))\n",
    "\n",
    "lst2 = lst.split(',')\n",
    "\n",
    "lst2.sort()\n",
    "\n",
    "print(\"\\n\")\n",
    "print(lst2)"
   ]
  },
  {
   "cell_type": "markdown",
   "metadata": {},
   "source": [
    "# Q3) Notebook of sets"
   ]
  },
  {
   "cell_type": "code",
   "execution_count": 49,
   "metadata": {},
   "outputs": [
    {
     "name": "stdout",
     "output_type": "stream",
     "text": [
      "{'JAVA', 'C', 'PYTHON', 'CPP'}\n"
     ]
    }
   ],
   "source": [
    "proglangs = {\"C\", \"CPP\", \"JAVA\", \"PYTHON\"}\n",
    "print(proglangs)"
   ]
  },
  {
   "cell_type": "code",
   "execution_count": 50,
   "metadata": {},
   "outputs": [
    {
     "name": "stdout",
     "output_type": "stream",
     "text": [
      "{'JAVA', 'R', 'C', 'CPP', 'PYTHON'}\n"
     ]
    }
   ],
   "source": [
    "proglangs.add(\"R\")\n",
    "print(proglangs)"
   ]
  },
  {
   "cell_type": "code",
   "execution_count": 51,
   "metadata": {},
   "outputs": [
    {
     "name": "stdout",
     "output_type": "stream",
     "text": [
      "{'JAVA', 'R', 'C', 'CPP', 'PYTHON'}\n"
     ]
    }
   ],
   "source": [
    "backup = proglangs.copy()\n",
    "print(backup)"
   ]
  },
  {
   "cell_type": "code",
   "execution_count": 52,
   "metadata": {},
   "outputs": [
    {
     "name": "stdout",
     "output_type": "stream",
     "text": [
      "{'JAVA', 'C', 'CPP', 'PYTHON'}\n"
     ]
    }
   ],
   "source": [
    "proglangs.discard(\"R\")\n",
    "print(proglangs)"
   ]
  },
  {
   "cell_type": "code",
   "execution_count": 53,
   "metadata": {},
   "outputs": [
    {
     "name": "stdout",
     "output_type": "stream",
     "text": [
      "{'R'}\n"
     ]
    }
   ],
   "source": [
    "b1 = backup.difference(proglangs)\n",
    "print(b1)"
   ]
  },
  {
   "cell_type": "code",
   "execution_count": 54,
   "metadata": {},
   "outputs": [
    {
     "name": "stdout",
     "output_type": "stream",
     "text": [
      "{'JAVA', 'C', 'CPP', 'PYTHON'}\n"
     ]
    }
   ],
   "source": [
    "b2 = {\"R\"}\n",
    "proglangs.difference_update(b2)\n",
    "print(proglangs)"
   ]
  },
  {
   "cell_type": "code",
   "execution_count": 55,
   "metadata": {},
   "outputs": [
    {
     "name": "stdout",
     "output_type": "stream",
     "text": [
      "{'JAVA'}\n"
     ]
    }
   ],
   "source": [
    "b3 = {\"JAVA\"}\n",
    "b4 = backup.intersection(b3)\n",
    "print(b4)"
   ]
  },
  {
   "cell_type": "code",
   "execution_count": 56,
   "metadata": {},
   "outputs": [
    {
     "name": "stdout",
     "output_type": "stream",
     "text": [
      "{'JAVA'}\n"
     ]
    }
   ],
   "source": [
    "backup.intersection_update(b3)\n",
    "print(backup)"
   ]
  },
  {
   "cell_type": "code",
   "execution_count": 57,
   "metadata": {},
   "outputs": [
    {
     "data": {
      "text/plain": [
       "False"
      ]
     },
     "execution_count": 57,
     "metadata": {},
     "output_type": "execute_result"
    }
   ],
   "source": [
    "proglangs.isdisjoint(backup)"
   ]
  },
  {
   "cell_type": "code",
   "execution_count": 58,
   "metadata": {},
   "outputs": [
    {
     "data": {
      "text/plain": [
       "True"
      ]
     },
     "execution_count": 58,
     "metadata": {},
     "output_type": "execute_result"
    }
   ],
   "source": [
    "backup.issubset(proglangs)"
   ]
  },
  {
   "cell_type": "code",
   "execution_count": 59,
   "metadata": {},
   "outputs": [
    {
     "data": {
      "text/plain": [
       "False"
      ]
     },
     "execution_count": 59,
     "metadata": {},
     "output_type": "execute_result"
    }
   ],
   "source": [
    "backup.issuperset(proglangs)"
   ]
  },
  {
   "cell_type": "code",
   "execution_count": 60,
   "metadata": {},
   "outputs": [
    {
     "name": "stdout",
     "output_type": "stream",
     "text": [
      "{'C', 'CPP', 'PYTHON'}\n"
     ]
    }
   ],
   "source": [
    "proglangs.pop()\n",
    "print(proglangs)"
   ]
  },
  {
   "cell_type": "code",
   "execution_count": 63,
   "metadata": {},
   "outputs": [
    {
     "name": "stdout",
     "output_type": "stream",
     "text": [
      "{'C', 'PYTHON'}\n"
     ]
    }
   ],
   "source": [
    "proglangs.remove(\"CPP\")\n",
    "print(proglangs)"
   ]
  },
  {
   "cell_type": "code",
   "execution_count": 64,
   "metadata": {},
   "outputs": [
    {
     "name": "stdout",
     "output_type": "stream",
     "text": [
      "{'JAVA'}\n",
      "{'C', 'PYTHON'}\n",
      "{'JAVA', 'C', 'PYTHON'}\n"
     ]
    }
   ],
   "source": [
    "print(backup)\n",
    "print(proglangs)\n",
    "b5 = proglangs.symmetric_difference(backup)\n",
    "print(b5)"
   ]
  },
  {
   "cell_type": "code",
   "execution_count": 65,
   "metadata": {},
   "outputs": [
    {
     "name": "stdout",
     "output_type": "stream",
     "text": [
      "{'JAVA', 'C', 'PYTHON'}\n",
      "{'JAVA'}\n"
     ]
    }
   ],
   "source": [
    "proglangs.symmetric_difference_update(backup)\n",
    "print(proglangs)\n",
    "print(backup)"
   ]
  },
  {
   "cell_type": "code",
   "execution_count": 66,
   "metadata": {},
   "outputs": [
    {
     "name": "stdout",
     "output_type": "stream",
     "text": [
      "{'JAVA', 'C', 'PYTHON', 'R'}\n"
     ]
    }
   ],
   "source": [
    "b6 = proglangs.union(b2)\n",
    "print(b6)"
   ]
  },
  {
   "cell_type": "code",
   "execution_count": 67,
   "metadata": {},
   "outputs": [
    {
     "name": "stdout",
     "output_type": "stream",
     "text": [
      "set()\n"
     ]
    }
   ],
   "source": [
    "proglangs.clear()\n",
    "print(proglangs)"
   ]
  },
  {
   "cell_type": "markdown",
   "metadata": {},
   "source": [
    "# Q4) Missing number"
   ]
  },
  {
   "cell_type": "code",
   "execution_count": 94,
   "metadata": {},
   "outputs": [
    {
     "name": "stdout",
     "output_type": "stream",
     "text": [
      "Enter the list of items separated by ' ': \n",
      "1 2 4 6 3 7 8\n",
      "\n",
      "\n",
      "5\n"
     ]
    }
   ],
   "source": [
    "lst = str(input(\"Enter the list of items separated by ' ': \\n\"))\n",
    "\n",
    "lst2 = lst.split(' ')\n",
    "\n",
    "lst2.sort()\n",
    "\n",
    "for i in range(1,len(lst2)-1):\n",
    "    if i == int(lst2[i-1]): \n",
    "        continue\n",
    "        \n",
    "    else: \n",
    "        answer = i\n",
    "        break\n",
    "\n",
    "print(\"\\n\")\n",
    "print(answer)"
   ]
  },
  {
   "cell_type": "markdown",
   "metadata": {},
   "source": [
    "# Q5) Remove duplicate"
   ]
  },
  {
   "cell_type": "code",
   "execution_count": 111,
   "metadata": {},
   "outputs": [
    {
     "name": "stdout",
     "output_type": "stream",
     "text": [
      "Enter the list of items separated by ' ': \n",
      "12 24 35 24 88 120 155 88 120 155\n",
      "['12', '24', '35', '88', '120', '155']\n"
     ]
    }
   ],
   "source": [
    "def Remove(duplicate): \n",
    "    final_list = [] \n",
    "    for num in duplicate: \n",
    "        if num not in final_list: \n",
    "            final_list.append(num) \n",
    "    return final_list \n",
    "      \n",
    "\n",
    "lst = str(input(\"Enter the list of items separated by ' ': \\n\"))\n",
    "\n",
    "lst2 = lst.split(' ')\n",
    "print(Remove(lst2)) "
   ]
  },
  {
   "cell_type": "code",
   "execution_count": null,
   "metadata": {},
   "outputs": [],
   "source": []
  }
 ],
 "metadata": {
  "kernelspec": {
   "display_name": "Python 3",
   "language": "python",
   "name": "python3"
  },
  "language_info": {
   "codemirror_mode": {
    "name": "ipython",
    "version": 3
   },
   "file_extension": ".py",
   "mimetype": "text/x-python",
   "name": "python",
   "nbconvert_exporter": "python",
   "pygments_lexer": "ipython3",
   "version": "3.7.6"
  },
  "toc": {
   "base_numbering": 1,
   "nav_menu": {},
   "number_sections": true,
   "sideBar": true,
   "skip_h1_title": false,
   "title_cell": "Table of Contents",
   "title_sidebar": "Contents",
   "toc_cell": false,
   "toc_position": {},
   "toc_section_display": true,
   "toc_window_display": false
  }
 },
 "nbformat": 4,
 "nbformat_minor": 4
}
