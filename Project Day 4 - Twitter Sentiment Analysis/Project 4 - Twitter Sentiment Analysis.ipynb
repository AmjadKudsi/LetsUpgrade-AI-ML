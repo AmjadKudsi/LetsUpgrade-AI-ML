{
 "cells": [
  {
   "cell_type": "code",
   "execution_count": 4,
   "metadata": {},
   "outputs": [
    {
     "name": "stdout",
     "output_type": "stream",
     "text": [
      "Requirement already satisfied: tweepy in c:\\users\\admin\\anaconda3\\lib\\site-packages (3.9.0)\n",
      "Requirement already satisfied: six>=1.10.0 in c:\\users\\admin\\anaconda3\\lib\\site-packages (from tweepy) (1.14.0)\n",
      "Requirement already satisfied: requests-oauthlib>=0.7.0 in c:\\users\\admin\\anaconda3\\lib\\site-packages (from tweepy) (1.3.0)\n",
      "Requirement already satisfied: requests[socks]>=2.11.1 in c:\\users\\admin\\anaconda3\\lib\\site-packages (from tweepy) (2.22.0)\n",
      "Requirement already satisfied: oauthlib>=3.0.0 in c:\\users\\admin\\anaconda3\\lib\\site-packages (from requests-oauthlib>=0.7.0->tweepy) (3.1.0)\n",
      "Requirement already satisfied: chardet<3.1.0,>=3.0.2 in c:\\users\\admin\\anaconda3\\lib\\site-packages (from requests[socks]>=2.11.1->tweepy) (3.0.4)\n",
      "Requirement already satisfied: urllib3!=1.25.0,!=1.25.1,<1.26,>=1.21.1 in c:\\users\\admin\\anaconda3\\lib\\site-packages (from requests[socks]>=2.11.1->tweepy) (1.25.8)\n",
      "Requirement already satisfied: certifi>=2017.4.17 in c:\\users\\admin\\anaconda3\\lib\\site-packages (from requests[socks]>=2.11.1->tweepy) (2019.11.28)\n",
      "Requirement already satisfied: idna<2.9,>=2.5 in c:\\users\\admin\\anaconda3\\lib\\site-packages (from requests[socks]>=2.11.1->tweepy) (2.8)\n",
      "Requirement already satisfied: PySocks!=1.5.7,>=1.5.6; extra == \"socks\" in c:\\users\\admin\\anaconda3\\lib\\site-packages (from requests[socks]>=2.11.1->tweepy) (1.7.1)\n"
     ]
    }
   ],
   "source": [
    "# collect text data using Twitter API\n",
    "!pip install tweepy"
   ]
  },
  {
   "cell_type": "code",
   "execution_count": 5,
   "metadata": {},
   "outputs": [
    {
     "name": "stdout",
     "output_type": "stream",
     "text": [
      "Requirement already satisfied: openpyxl in c:\\users\\admin\\anaconda3\\lib\\site-packages (3.0.3)\n",
      "Requirement already satisfied: jdcal in c:\\users\\admin\\anaconda3\\lib\\site-packages (from openpyxl) (1.4.1)\n",
      "Requirement already satisfied: et-xmlfile in c:\\users\\admin\\anaconda3\\lib\\site-packages (from openpyxl) (1.0.1)\n"
     ]
    }
   ],
   "source": [
    "!pip install openpyxl"
   ]
  },
  {
   "cell_type": "code",
   "execution_count": 8,
   "metadata": {},
   "outputs": [],
   "source": [
    "import numpy as np\n",
    "import pandas as pd\n",
    "import tweepy\n",
    "import json\n",
    "from tweepy import OAuthHandler"
   ]
  },
  {
   "cell_type": "markdown",
   "metadata": {},
   "source": [
    "# Initializing Twitter API"
   ]
  },
  {
   "cell_type": "code",
   "execution_count": 10,
   "metadata": {},
   "outputs": [],
   "source": [
    "consumer_key = \"DreBJqr1OxQZGAuMJIS3kaeTL\"\n",
    "consumer_secret = \"5dMdE5ptm468W5o5vQf48AMShNnYGQDvtRkuhcIyycz4wBGKIj\"\n",
    "access_token = \"1322035865615556609-z6ZRy7ZJFgNNNleEE4u6zRZ7pNTvTm\"\n",
    "access_token_secret = \"Ty0OUxG0ng1YvqihRiDFmhAvOH7j2QhNBbUzWbBi07CH9\"\n",
    "\n",
    "auth = tweepy.OAuthHandler( consumer_key , consumer_secret )\n",
    "auth.set_access_token( access_token , access_token_secret )\n",
    "api = tweepy.API(auth)\n",
    "\n",
    "query = \"Narendra Modi Prime Minister\"\n",
    "\n",
    "Tweets = api.search( query , count=10 , lang='en' , exclude='retweets' , tweet_mode='extended' )\n",
    "# tweet_mode='extended'\n",
    "# tweet_mode='compat'\n",
    "\n",
    "# for tweet in Tweets:\n",
    "#     print(tweet,\"\\n\")\n",
    "#     print(\".....................................\\n\")"
   ]
  },
  {
   "cell_type": "markdown",
   "metadata": {},
   "source": [
    "# Creating Dataframe by fetching data using tweepy"
   ]
  },
  {
   "cell_type": "code",
   "execution_count": 11,
   "metadata": {},
   "outputs": [
    {
     "name": "stdout",
     "output_type": "stream",
     "text": [
      "Empty DataFrame\n",
      "Columns: [Tweets, User, User_statuses_count, user_followers, User_location, User_verified, fav_count, rt_count, tweet_date]\n",
      "Index: []\n"
     ]
    }
   ],
   "source": [
    "df = pd.DataFrame(columns = ['Tweets' , 'User' , 'User_statuses_count' , \n",
    "                            'user_followers' , 'User_location' , 'User_verified' ,\n",
    "                            'fav_count' , 'rt_count' , 'tweet_date'] )\n",
    "print(df)\n",
    "# print(df.shape)"
   ]
  },
  {
   "cell_type": "code",
   "execution_count": 12,
   "metadata": {},
   "outputs": [
    {
     "name": "stdout",
     "output_type": "stream",
     "text": [
      "999\r"
     ]
    }
   ],
   "source": [
    "def stream(data, file_name):\n",
    "    i = 0\n",
    "    for tweet in tweepy.Cursor(api.search, q=data, count=100, lang='en').items():\n",
    "        print(i, end='\\r')\n",
    "        df.loc[i, 'Tweets'] = tweet.text\n",
    "        df.loc[i, 'User'] = tweet.user.name\n",
    "        df.loc[i, 'User_statuses_count'] = tweet.user.statuses_count\n",
    "        df.loc[i, 'user_followers'] = tweet.user.followers_count\n",
    "        df.loc[i, 'User_location'] = tweet.user.location\n",
    "        df.loc[i, 'User_verified'] = tweet.user.verified\n",
    "        df.loc[i, 'fav_count'] = tweet.favorite_count\n",
    "        df.loc[i, 'rt_count'] = tweet.retweet_count\n",
    "        df.loc[i, 'tweet_date'] = tweet.created_at\n",
    "        df.to_excel('{}.xlsx'.format(file_name))\n",
    "        i = i+1\n",
    "        if i == 1000:\n",
    "            break\n",
    "        else:\n",
    "            pass\n",
    "stream(data=[query] , file_name='my_tweets')"
   ]
  },
  {
   "cell_type": "code",
   "execution_count": 13,
   "metadata": {},
   "outputs": [
    {
     "data": {
      "text/html": [
       "<div>\n",
       "<style scoped>\n",
       "    .dataframe tbody tr th:only-of-type {\n",
       "        vertical-align: middle;\n",
       "    }\n",
       "\n",
       "    .dataframe tbody tr th {\n",
       "        vertical-align: top;\n",
       "    }\n",
       "\n",
       "    .dataframe thead th {\n",
       "        text-align: right;\n",
       "    }\n",
       "</style>\n",
       "<table border=\"1\" class=\"dataframe\">\n",
       "  <thead>\n",
       "    <tr style=\"text-align: right;\">\n",
       "      <th></th>\n",
       "      <th>Tweets</th>\n",
       "      <th>User</th>\n",
       "      <th>User_statuses_count</th>\n",
       "      <th>user_followers</th>\n",
       "      <th>User_location</th>\n",
       "      <th>User_verified</th>\n",
       "      <th>fav_count</th>\n",
       "      <th>rt_count</th>\n",
       "      <th>tweet_date</th>\n",
       "    </tr>\n",
       "  </thead>\n",
       "  <tbody>\n",
       "    <tr>\n",
       "      <th>0</th>\n",
       "      <td>RT @timesofindia: Spoke to #MulayamSinghYadav ...</td>\n",
       "      <td>Piyush cahturvedi</td>\n",
       "      <td>6842</td>\n",
       "      <td>102</td>\n",
       "      <td>India</td>\n",
       "      <td>False</td>\n",
       "      <td>0</td>\n",
       "      <td>4</td>\n",
       "      <td>2020-11-22 08:07:44</td>\n",
       "    </tr>\n",
       "    <tr>\n",
       "      <th>1</th>\n",
       "      <td>RT @timesofindia: Spoke to #MulayamSinghYadav ...</td>\n",
       "      <td>Надежда Румянцева</td>\n",
       "      <td>151647</td>\n",
       "      <td>1372</td>\n",
       "      <td></td>\n",
       "      <td>False</td>\n",
       "      <td>0</td>\n",
       "      <td>4</td>\n",
       "      <td>2020-11-22 08:07:14</td>\n",
       "    </tr>\n",
       "    <tr>\n",
       "      <th>2</th>\n",
       "      <td>RT @timesofindia: Spoke to #MulayamSinghYadav ...</td>\n",
       "      <td>Shailesh</td>\n",
       "      <td>5637</td>\n",
       "      <td>55</td>\n",
       "      <td>Bharat</td>\n",
       "      <td>False</td>\n",
       "      <td>0</td>\n",
       "      <td>4</td>\n",
       "      <td>2020-11-22 08:06:38</td>\n",
       "    </tr>\n",
       "    <tr>\n",
       "      <th>3</th>\n",
       "      <td>RT @SortedEagle: According to news agency ANI'...</td>\n",
       "      <td>🇮🇳 દિવ્યમશુ સરકાર 🇮🇳</td>\n",
       "      <td>305340</td>\n",
       "      <td>5623</td>\n",
       "      <td>India</td>\n",
       "      <td>False</td>\n",
       "      <td>0</td>\n",
       "      <td>11</td>\n",
       "      <td>2020-11-22 08:05:55</td>\n",
       "    </tr>\n",
       "    <tr>\n",
       "      <th>4</th>\n",
       "      <td>RT @timesofindia: Spoke to #MulayamSinghYadav ...</td>\n",
       "      <td>Ritesh Salot</td>\n",
       "      <td>121</td>\n",
       "      <td>12</td>\n",
       "      <td></td>\n",
       "      <td>False</td>\n",
       "      <td>0</td>\n",
       "      <td>4</td>\n",
       "      <td>2020-11-22 08:05:55</td>\n",
       "    </tr>\n",
       "  </tbody>\n",
       "</table>\n",
       "</div>"
      ],
      "text/plain": [
       "                                              Tweets                  User  \\\n",
       "0  RT @timesofindia: Spoke to #MulayamSinghYadav ...     Piyush cahturvedi   \n",
       "1  RT @timesofindia: Spoke to #MulayamSinghYadav ...     Надежда Румянцева   \n",
       "2  RT @timesofindia: Spoke to #MulayamSinghYadav ...              Shailesh   \n",
       "3  RT @SortedEagle: According to news agency ANI'...  🇮🇳 દિવ્યમશુ સરકાર 🇮🇳   \n",
       "4  RT @timesofindia: Spoke to #MulayamSinghYadav ...          Ritesh Salot   \n",
       "\n",
       "  User_statuses_count user_followers User_location User_verified fav_count  \\\n",
       "0                6842            102         India         False         0   \n",
       "1              151647           1372                       False         0   \n",
       "2                5637             55        Bharat         False         0   \n",
       "3              305340           5623         India         False         0   \n",
       "4                 121             12                       False         0   \n",
       "\n",
       "  rt_count           tweet_date  \n",
       "0        4  2020-11-22 08:07:44  \n",
       "1        4  2020-11-22 08:07:14  \n",
       "2        4  2020-11-22 08:06:38  \n",
       "3       11  2020-11-22 08:05:55  \n",
       "4        4  2020-11-22 08:05:55  "
      ]
     },
     "execution_count": 13,
     "metadata": {},
     "output_type": "execute_result"
    }
   ],
   "source": [
    "df.head()"
   ]
  },
  {
   "cell_type": "code",
   "execution_count": 16,
   "metadata": {},
   "outputs": [
    {
     "name": "stdout",
     "output_type": "stream",
     "text": [
      "Collecting textblob\n",
      "  Downloading textblob-0.15.3-py2.py3-none-any.whl (636 kB)\n",
      "Requirement already satisfied: nltk>=3.1 in c:\\users\\admin\\anaconda3\\lib\\site-packages (from textblob) (3.4.5)\n",
      "Requirement already satisfied: six in c:\\users\\admin\\anaconda3\\lib\\site-packages (from nltk>=3.1->textblob) (1.14.0)\n",
      "Installing collected packages: textblob\n",
      "Successfully installed textblob-0.15.3\n"
     ]
    }
   ],
   "source": [
    "!pip install textblob\n",
    "#Sentiment(polarity, subjectivity) \n",
    "#Polarity score: [-1 , +1] \n",
    "#Subjectivity: [0.0 , 1.0] where 0.0 is very Objective and 1.0 is very Subjective."
   ]
  },
  {
   "cell_type": "markdown",
   "metadata": {},
   "source": [
    "# Cleaning Tweets and analyzing using TextBlob"
   ]
  },
  {
   "cell_type": "code",
   "execution_count": 27,
   "metadata": {},
   "outputs": [
    {
     "data": {
      "text/html": [
       "<div>\n",
       "<style scoped>\n",
       "    .dataframe tbody tr th:only-of-type {\n",
       "        vertical-align: middle;\n",
       "    }\n",
       "\n",
       "    .dataframe tbody tr th {\n",
       "        vertical-align: top;\n",
       "    }\n",
       "\n",
       "    .dataframe thead th {\n",
       "        text-align: right;\n",
       "    }\n",
       "</style>\n",
       "<table border=\"1\" class=\"dataframe\">\n",
       "  <thead>\n",
       "    <tr style=\"text-align: right;\">\n",
       "      <th></th>\n",
       "      <th>Tweets</th>\n",
       "      <th>User</th>\n",
       "      <th>User_statuses_count</th>\n",
       "      <th>user_followers</th>\n",
       "      <th>User_location</th>\n",
       "      <th>User_verified</th>\n",
       "      <th>fav_count</th>\n",
       "      <th>rt_count</th>\n",
       "      <th>tweet_date</th>\n",
       "      <th>clean_tweet</th>\n",
       "      <th>Sentiment</th>\n",
       "    </tr>\n",
       "  </thead>\n",
       "  <tbody>\n",
       "    <tr>\n",
       "      <th>0</th>\n",
       "      <td>RT @timesofindia: Spoke to #MulayamSinghYadav ...</td>\n",
       "      <td>Piyush cahturvedi</td>\n",
       "      <td>6842</td>\n",
       "      <td>102</td>\n",
       "      <td>India</td>\n",
       "      <td>False</td>\n",
       "      <td>0</td>\n",
       "      <td>4</td>\n",
       "      <td>2020-11-22 08:07:44</td>\n",
       "      <td>RT Spoke to MulayamSinghYadav and greeted him ...</td>\n",
       "      <td>Positive</td>\n",
       "    </tr>\n",
       "    <tr>\n",
       "      <th>1</th>\n",
       "      <td>RT @timesofindia: Spoke to #MulayamSinghYadav ...</td>\n",
       "      <td>Надежда Румянцева</td>\n",
       "      <td>151647</td>\n",
       "      <td>1372</td>\n",
       "      <td></td>\n",
       "      <td>False</td>\n",
       "      <td>0</td>\n",
       "      <td>4</td>\n",
       "      <td>2020-11-22 08:07:14</td>\n",
       "      <td>RT Spoke to MulayamSinghYadav and greeted him ...</td>\n",
       "      <td>Positive</td>\n",
       "    </tr>\n",
       "    <tr>\n",
       "      <th>2</th>\n",
       "      <td>RT @timesofindia: Spoke to #MulayamSinghYadav ...</td>\n",
       "      <td>Shailesh</td>\n",
       "      <td>5637</td>\n",
       "      <td>55</td>\n",
       "      <td>Bharat</td>\n",
       "      <td>False</td>\n",
       "      <td>0</td>\n",
       "      <td>4</td>\n",
       "      <td>2020-11-22 08:06:38</td>\n",
       "      <td>RT Spoke to MulayamSinghYadav and greeted him ...</td>\n",
       "      <td>Positive</td>\n",
       "    </tr>\n",
       "    <tr>\n",
       "      <th>3</th>\n",
       "      <td>RT @SortedEagle: According to news agency ANI'...</td>\n",
       "      <td>🇮🇳 દિવ્યમશુ સરકાર 🇮🇳</td>\n",
       "      <td>305340</td>\n",
       "      <td>5623</td>\n",
       "      <td>India</td>\n",
       "      <td>False</td>\n",
       "      <td>0</td>\n",
       "      <td>11</td>\n",
       "      <td>2020-11-22 08:05:55</td>\n",
       "      <td>RT According to news agency ANI s report Prime...</td>\n",
       "      <td>Neutral</td>\n",
       "    </tr>\n",
       "    <tr>\n",
       "      <th>4</th>\n",
       "      <td>RT @timesofindia: Spoke to #MulayamSinghYadav ...</td>\n",
       "      <td>Ritesh Salot</td>\n",
       "      <td>121</td>\n",
       "      <td>12</td>\n",
       "      <td></td>\n",
       "      <td>False</td>\n",
       "      <td>0</td>\n",
       "      <td>4</td>\n",
       "      <td>2020-11-22 08:05:55</td>\n",
       "      <td>RT Spoke to MulayamSinghYadav and greeted him ...</td>\n",
       "      <td>Positive</td>\n",
       "    </tr>\n",
       "  </tbody>\n",
       "</table>\n",
       "</div>"
      ],
      "text/plain": [
       "                                              Tweets                  User  \\\n",
       "0  RT @timesofindia: Spoke to #MulayamSinghYadav ...     Piyush cahturvedi   \n",
       "1  RT @timesofindia: Spoke to #MulayamSinghYadav ...     Надежда Румянцева   \n",
       "2  RT @timesofindia: Spoke to #MulayamSinghYadav ...              Shailesh   \n",
       "3  RT @SortedEagle: According to news agency ANI'...  🇮🇳 દિવ્યમશુ સરકાર 🇮🇳   \n",
       "4  RT @timesofindia: Spoke to #MulayamSinghYadav ...          Ritesh Salot   \n",
       "\n",
       "  User_statuses_count user_followers User_location User_verified fav_count  \\\n",
       "0                6842            102         India         False         0   \n",
       "1              151647           1372                       False         0   \n",
       "2                5637             55        Bharat         False         0   \n",
       "3              305340           5623         India         False         0   \n",
       "4                 121             12                       False         0   \n",
       "\n",
       "  rt_count           tweet_date  \\\n",
       "0        4  2020-11-22 08:07:44   \n",
       "1        4  2020-11-22 08:07:14   \n",
       "2        4  2020-11-22 08:06:38   \n",
       "3       11  2020-11-22 08:05:55   \n",
       "4        4  2020-11-22 08:05:55   \n",
       "\n",
       "                                         clean_tweet Sentiment  \n",
       "0  RT Spoke to MulayamSinghYadav and greeted him ...  Positive  \n",
       "1  RT Spoke to MulayamSinghYadav and greeted him ...  Positive  \n",
       "2  RT Spoke to MulayamSinghYadav and greeted him ...  Positive  \n",
       "3  RT According to news agency ANI s report Prime...   Neutral  \n",
       "4  RT Spoke to MulayamSinghYadav and greeted him ...  Positive  "
      ]
     },
     "execution_count": 27,
     "metadata": {},
     "output_type": "execute_result"
    }
   ],
   "source": [
    "from textblob import TextBlob\n",
    "\n",
    "import re\n",
    "def clean_tweet(tweet):\n",
    "    return ' '.join(re.sub('(@[A-Za-z0-9]+)|([^0-9A-Za-z \\t])|(\\w+:\\/\\/\\S+)', ' ', tweet).split())\n",
    "\n",
    "def analyze_sentiment(tweet):\n",
    "    analysis = TextBlob(tweet)\n",
    "    if analysis.sentiment.polarity > 0:\n",
    "        return 'Positive'\n",
    "    elif analysis.sentiment.polarity == 0:\n",
    "        return 'Neutral'\n",
    "    else:\n",
    "        return 'Negative'\n",
    "df['clean_tweet'] = df['Tweets'].apply(lambda x : clean_tweet(x))\n",
    "\n",
    "\n",
    "df.head()"
   ]
  },
  {
   "cell_type": "code",
   "execution_count": 28,
   "metadata": {},
   "outputs": [
    {
     "data": {
      "text/html": [
       "<div>\n",
       "<style scoped>\n",
       "    .dataframe tbody tr th:only-of-type {\n",
       "        vertical-align: middle;\n",
       "    }\n",
       "\n",
       "    .dataframe tbody tr th {\n",
       "        vertical-align: top;\n",
       "    }\n",
       "\n",
       "    .dataframe thead th {\n",
       "        text-align: right;\n",
       "    }\n",
       "</style>\n",
       "<table border=\"1\" class=\"dataframe\">\n",
       "  <thead>\n",
       "    <tr style=\"text-align: right;\">\n",
       "      <th></th>\n",
       "      <th>Tweets</th>\n",
       "      <th>User</th>\n",
       "      <th>User_statuses_count</th>\n",
       "      <th>user_followers</th>\n",
       "      <th>User_location</th>\n",
       "      <th>User_verified</th>\n",
       "      <th>fav_count</th>\n",
       "      <th>rt_count</th>\n",
       "      <th>tweet_date</th>\n",
       "      <th>clean_tweet</th>\n",
       "      <th>Sentiment</th>\n",
       "    </tr>\n",
       "  </thead>\n",
       "  <tbody>\n",
       "    <tr>\n",
       "      <th>0</th>\n",
       "      <td>RT @timesofindia: Spoke to #MulayamSinghYadav ...</td>\n",
       "      <td>Piyush cahturvedi</td>\n",
       "      <td>6842</td>\n",
       "      <td>102</td>\n",
       "      <td>India</td>\n",
       "      <td>False</td>\n",
       "      <td>0</td>\n",
       "      <td>4</td>\n",
       "      <td>2020-11-22 08:07:44</td>\n",
       "      <td>RT Spoke to MulayamSinghYadav and greeted him ...</td>\n",
       "      <td>Positive</td>\n",
       "    </tr>\n",
       "    <tr>\n",
       "      <th>1</th>\n",
       "      <td>RT @timesofindia: Spoke to #MulayamSinghYadav ...</td>\n",
       "      <td>Надежда Румянцева</td>\n",
       "      <td>151647</td>\n",
       "      <td>1372</td>\n",
       "      <td></td>\n",
       "      <td>False</td>\n",
       "      <td>0</td>\n",
       "      <td>4</td>\n",
       "      <td>2020-11-22 08:07:14</td>\n",
       "      <td>RT Spoke to MulayamSinghYadav and greeted him ...</td>\n",
       "      <td>Positive</td>\n",
       "    </tr>\n",
       "    <tr>\n",
       "      <th>2</th>\n",
       "      <td>RT @timesofindia: Spoke to #MulayamSinghYadav ...</td>\n",
       "      <td>Shailesh</td>\n",
       "      <td>5637</td>\n",
       "      <td>55</td>\n",
       "      <td>Bharat</td>\n",
       "      <td>False</td>\n",
       "      <td>0</td>\n",
       "      <td>4</td>\n",
       "      <td>2020-11-22 08:06:38</td>\n",
       "      <td>RT Spoke to MulayamSinghYadav and greeted him ...</td>\n",
       "      <td>Positive</td>\n",
       "    </tr>\n",
       "    <tr>\n",
       "      <th>3</th>\n",
       "      <td>RT @SortedEagle: According to news agency ANI'...</td>\n",
       "      <td>🇮🇳 દિવ્યમશુ સરકાર 🇮🇳</td>\n",
       "      <td>305340</td>\n",
       "      <td>5623</td>\n",
       "      <td>India</td>\n",
       "      <td>False</td>\n",
       "      <td>0</td>\n",
       "      <td>11</td>\n",
       "      <td>2020-11-22 08:05:55</td>\n",
       "      <td>RT According to news agency ANI s report Prime...</td>\n",
       "      <td>Neutral</td>\n",
       "    </tr>\n",
       "    <tr>\n",
       "      <th>4</th>\n",
       "      <td>RT @timesofindia: Spoke to #MulayamSinghYadav ...</td>\n",
       "      <td>Ritesh Salot</td>\n",
       "      <td>121</td>\n",
       "      <td>12</td>\n",
       "      <td></td>\n",
       "      <td>False</td>\n",
       "      <td>0</td>\n",
       "      <td>4</td>\n",
       "      <td>2020-11-22 08:05:55</td>\n",
       "      <td>RT Spoke to MulayamSinghYadav and greeted him ...</td>\n",
       "      <td>Positive</td>\n",
       "    </tr>\n",
       "  </tbody>\n",
       "</table>\n",
       "</div>"
      ],
      "text/plain": [
       "                                              Tweets                  User  \\\n",
       "0  RT @timesofindia: Spoke to #MulayamSinghYadav ...     Piyush cahturvedi   \n",
       "1  RT @timesofindia: Spoke to #MulayamSinghYadav ...     Надежда Румянцева   \n",
       "2  RT @timesofindia: Spoke to #MulayamSinghYadav ...              Shailesh   \n",
       "3  RT @SortedEagle: According to news agency ANI'...  🇮🇳 દિવ્યમશુ સરકાર 🇮🇳   \n",
       "4  RT @timesofindia: Spoke to #MulayamSinghYadav ...          Ritesh Salot   \n",
       "\n",
       "  User_statuses_count user_followers User_location User_verified fav_count  \\\n",
       "0                6842            102         India         False         0   \n",
       "1              151647           1372                       False         0   \n",
       "2                5637             55        Bharat         False         0   \n",
       "3              305340           5623         India         False         0   \n",
       "4                 121             12                       False         0   \n",
       "\n",
       "  rt_count           tweet_date  \\\n",
       "0        4  2020-11-22 08:07:44   \n",
       "1        4  2020-11-22 08:07:14   \n",
       "2        4  2020-11-22 08:06:38   \n",
       "3       11  2020-11-22 08:05:55   \n",
       "4        4  2020-11-22 08:05:55   \n",
       "\n",
       "                                         clean_tweet Sentiment  \n",
       "0  RT Spoke to MulayamSinghYadav and greeted him ...  Positive  \n",
       "1  RT Spoke to MulayamSinghYadav and greeted him ...  Positive  \n",
       "2  RT Spoke to MulayamSinghYadav and greeted him ...  Positive  \n",
       "3  RT According to news agency ANI s report Prime...   Neutral  \n",
       "4  RT Spoke to MulayamSinghYadav and greeted him ...  Positive  "
      ]
     },
     "execution_count": 28,
     "metadata": {},
     "output_type": "execute_result"
    }
   ],
   "source": [
    "df['Sentiment'] = df['clean_tweet'].apply(lambda x : analyze_sentiment(x) )\n",
    "df.head()"
   ]
  },
  {
   "cell_type": "code",
   "execution_count": 29,
   "metadata": {},
   "outputs": [
    {
     "data": {
      "text/plain": [
       "Tweets                 30\n",
       "User                   30\n",
       "User_statuses_count    30\n",
       "user_followers         30\n",
       "User_location          30\n",
       "User_verified          30\n",
       "fav_count              30\n",
       "rt_count               30\n",
       "tweet_date             30\n",
       "clean_tweet            30\n",
       "Sentiment              30\n",
       "dtype: int64"
      ]
     },
     "execution_count": 29,
     "metadata": {},
     "output_type": "execute_result"
    }
   ],
   "source": [
    "df[df['User_verified'] == True].count()"
   ]
  },
  {
   "cell_type": "code",
   "execution_count": 30,
   "metadata": {},
   "outputs": [
    {
     "name": "stdout",
     "output_type": "stream",
     "text": [
      "Original tweet:\n",
      " RT @timesofindia: Spoke to #MulayamSinghYadav and greeted him on his birthday. He is one of the senior-most and experienced leaders of our…\n",
      "\n",
      "Clean tweet:\n",
      " RT Spoke to MulayamSinghYadav and greeted him on his birthday He is one of the senior most and experienced leaders of our\n",
      "\n",
      "Sentiment of the tweet:\n",
      " Positive\n"
     ]
    }
   ],
   "source": [
    "n = 1\n",
    "print(\"Original tweet:\\n\",df['Tweets'][n])\n",
    "print()\n",
    "print(\"Clean tweet:\\n\",df['clean_tweet'][n])\n",
    "print()\n",
    "print(\"Sentiment of the tweet:\\n\",df['Sentiment'][n])"
   ]
  },
  {
   "cell_type": "code",
   "execution_count": 31,
   "metadata": {},
   "outputs": [
    {
     "name": "stdout",
     "output_type": "stream",
     "text": [
      "Original tweet:\n",
      " RT @ANI: Spoke to #MulayamSinghYadav and greeted him on his birthday. He is one of the senior-most and experienced leaders of our country w…\n",
      "\n",
      "Clean tweet:\n",
      " RT Spoke to MulayamSinghYadav and greeted him on his birthday He is one of the senior most and experienced leaders of our country w\n",
      "\n",
      "Sentiment of the tweet:\n",
      " Positive\n"
     ]
    }
   ],
   "source": [
    "n = 20\n",
    "print(\"Original tweet:\\n\",df['Tweets'][n])\n",
    "print()\n",
    "print(\"Clean tweet:\\n\",df['clean_tweet'][n])\n",
    "print()\n",
    "print(\"Sentiment of the tweet:\\n\",df['Sentiment'][n])"
   ]
  },
  {
   "cell_type": "code",
   "execution_count": 32,
   "metadata": {},
   "outputs": [
    {
     "name": "stdout",
     "output_type": "stream",
     "text": [
      "Original tweet:\n",
      " RT @RavinderKapur2: ONE  LOOK  AT  NARENDRA  MODI AND  YOU  CAN  MAKE  OUT  HE  IS  A  CORRUPT  AND ARROGANT PRIME MINISTER .\n",
      "\n",
      "Clean tweet:\n",
      " RT ONE LOOK AT NARENDRA MODI AND YOU CAN MAKE OUT HE IS A CORRUPT AND ARROGANT PRIME MINISTER\n",
      "\n",
      "Sentiment of the tweet:\n",
      " Negative\n"
     ]
    }
   ],
   "source": [
    "n = 203\n",
    "print(\"Original tweet:\\n\",df['Tweets'][n])\n",
    "print()\n",
    "print(\"Clean tweet:\\n\",df['clean_tweet'][n])\n",
    "print()\n",
    "print(\"Sentiment of the tweet:\\n\",df['Sentiment'][n])"
   ]
  },
  {
   "cell_type": "code",
   "execution_count": 33,
   "metadata": {},
   "outputs": [
    {
     "data": {
      "text/plain": [
       "525"
      ]
     },
     "execution_count": 33,
     "metadata": {},
     "output_type": "execute_result"
    }
   ],
   "source": [
    "df[df.Sentiment == 'Positive'].shape[0]"
   ]
  },
  {
   "cell_type": "code",
   "execution_count": 34,
   "metadata": {},
   "outputs": [
    {
     "data": {
      "text/plain": [
       "406"
      ]
     },
     "execution_count": 34,
     "metadata": {},
     "output_type": "execute_result"
    }
   ],
   "source": [
    "df[df.Sentiment == 'Neutral'].shape[0]"
   ]
  },
  {
   "cell_type": "code",
   "execution_count": 35,
   "metadata": {},
   "outputs": [
    {
     "data": {
      "text/plain": [
       "69"
      ]
     },
     "execution_count": 35,
     "metadata": {},
     "output_type": "execute_result"
    }
   ],
   "source": [
    "df[df.Sentiment == 'Negative'].shape[0]"
   ]
  }
 ],
 "metadata": {
  "kernelspec": {
   "display_name": "Python 3",
   "language": "python",
   "name": "python3"
  },
  "language_info": {
   "codemirror_mode": {
    "name": "ipython",
    "version": 3
   },
   "file_extension": ".py",
   "mimetype": "text/x-python",
   "name": "python",
   "nbconvert_exporter": "python",
   "pygments_lexer": "ipython3",
   "version": "3.7.6"
  },
  "toc": {
   "base_numbering": 1,
   "nav_menu": {},
   "number_sections": true,
   "sideBar": true,
   "skip_h1_title": false,
   "title_cell": "Table of Contents",
   "title_sidebar": "Contents",
   "toc_cell": false,
   "toc_position": {},
   "toc_section_display": true,
   "toc_window_display": false
  }
 },
 "nbformat": 4,
 "nbformat_minor": 4
}
