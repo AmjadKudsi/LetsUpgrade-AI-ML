{
 "cells": [
  {
   "cell_type": "markdown",
   "metadata": {},
   "source": [
    "# Q1) Complex Numbers Subtraction"
   ]
  },
  {
   "cell_type": "code",
   "execution_count": 7,
   "metadata": {},
   "outputs": [
    {
     "name": "stdout",
     "output_type": "stream",
     "text": [
      "Enter the real number of first complex number: -2\n",
      "Enter the imaginary number of first complex number: -4\n",
      "Enter the real number of second complex number: 1\n",
      "Enter the imaginary number of second complex number: 3\n",
      "\n",
      "\n",
      "\n",
      "The difference of the two given complex numbers is:  (-3-7j)\n"
     ]
    }
   ],
   "source": [
    "import math\n",
    "\n",
    "a1 = float(input(\"Enter the real number of first complex number: \"))\n",
    "b1 = float(input(\"Enter the imaginary number of first complex number: \"))\n",
    "a2 = float(input(\"Enter the real number of second complex number: \"))\n",
    "b2 = float(input(\"Enter the imaginary number of second complex number: \"))\n",
    "\n",
    "diff = complex(a1,b1) - complex(a2,b2)\n",
    "\n",
    "print(\"\\n\\n\")\n",
    "print(\"The difference of the two given complex numbers is: \", diff)"
   ]
  },
  {
   "cell_type": "markdown",
   "metadata": {},
   "source": [
    "# Q2) Fourth root of the number"
   ]
  },
  {
   "cell_type": "code",
   "execution_count": 12,
   "metadata": {},
   "outputs": [
    {
     "name": "stdout",
     "output_type": "stream",
     "text": [
      "Enter the num: 15\n",
      "The fourth root of the given number is:  1.9679896712654306\n"
     ]
    }
   ],
   "source": [
    "import math\n",
    "\n",
    "num = float(input(\"Enter the num: \"))\n",
    "\n",
    "root = math.sqrt(num)\n",
    "\n",
    "f_root = math.sqrt(root)\n",
    "\n",
    "print(\"The fourth root of the given number is: \", f_root)"
   ]
  },
  {
   "cell_type": "markdown",
   "metadata": {},
   "source": [
    "# Q3) Swap Numbers"
   ]
  },
  {
   "cell_type": "markdown",
   "metadata": {},
   "source": [
    "a = float(input(\"Enter a number: \"))\n",
    "b = float(input(\"Enter another number: \"))\n",
    "\n",
    "print(\"Values before swapping: a =\",a,\"b =\",b)\n",
    "\n",
    "temp = a\n",
    "a = b\n",
    "b = temp\n",
    "\n",
    "print(\"Values after swapping: a =\",a,\"b =\",b)"
   ]
  },
  {
   "cell_type": "markdown",
   "metadata": {},
   "source": [
    "# Q4) Swap Numbers without temporary variable"
   ]
  },
  {
   "cell_type": "code",
   "execution_count": 19,
   "metadata": {},
   "outputs": [
    {
     "name": "stdout",
     "output_type": "stream",
     "text": [
      "Enter a number: 1\n",
      "Enter another number: 2\n",
      "Values before swapping: a = 1.0 b = 2.0\n",
      "Values after swapping: a = 2.0 b = 1.0\n"
     ]
    }
   ],
   "source": [
    "a = float(input(\"Enter a number: \"))\n",
    "b = float(input(\"Enter another number: \"))\n",
    "\n",
    "print(\"Values before swapping: a =\",a,\"b =\",b)\n",
    "\n",
    "a,b = b,a\n",
    "\n",
    "\n",
    "print(\"Values after swapping: a =\",a,\"b =\",b)"
   ]
  },
  {
   "cell_type": "markdown",
   "metadata": {},
   "source": [
    "# Q5) Farenheit to Celsius and Kelvin conversion"
   ]
  },
  {
   "cell_type": "code",
   "execution_count": 22,
   "metadata": {},
   "outputs": [
    {
     "name": "stdout",
     "output_type": "stream",
     "text": [
      "Enter the Farenheit value: 32\n",
      "Celsius value =  0.0\n",
      "Kelvin vlaue =  273.0\n"
     ]
    }
   ],
   "source": [
    "Farenheit = float(input(\"Enter the Farenheit value: \"))\n",
    "\n",
    "Celsius = 5/9*(Farenheit - 32)\n",
    "\n",
    "Kelvin = 5/9*(Farenheit - 32) + 273\n",
    "\n",
    "print(\"Celsius value = \",Celsius)\n",
    "print(\"Kelvin vlaue = \",Kelvin)"
   ]
  },
  {
   "cell_type": "markdown",
   "metadata": {},
   "source": [
    "# Q6) Data types in Python"
   ]
  },
  {
   "cell_type": "code",
   "execution_count": 46,
   "metadata": {},
   "outputs": [
    {
     "name": "stdout",
     "output_type": "stream",
     "text": [
      "1 = Data Type:  <class 'int'>\n",
      "1.1 = Data Type:  <class 'float'>\n",
      "(1+2j) = Data Type:  <class 'complex'>\n",
      "True = Data Type:  <class 'bool'>\n",
      "[] = Data Type:  <class 'str'>\n",
      "[] = Data Type:  <class 'list'>\n",
      "() = Data Type:  <class 'tuple'>\n",
      "{} = Data Type:  <class 'dict'>\n",
      "{'a', 'b'} = Data Type:  <class 'set'>\n"
     ]
    }
   ],
   "source": [
    "a = 1\n",
    "print(a, \"= Data Type: \",type(a))\n",
    "\n",
    "b = 1.1\n",
    "print(b, \"= Data Type: \",type(b))\n",
    "\n",
    "c = 1 + 2j\n",
    "print(c, \"= Data Type: \",type(c))\n",
    "\n",
    "d = True\n",
    "print(d, \"= Data Type: \",type(d))\n",
    "\n",
    "e = 'Hello LetsUpgraders!'\n",
    "print(f, \"= Data Type: \",type(e))\n",
    "\n",
    "f = []\n",
    "print(f, \"= Data Type: \",type(f))\n",
    "\n",
    "g = ()\n",
    "print(g, \"= Data Type: \",type(g))\n",
    "\n",
    "h = {}\n",
    "print(h, \"= Data Type: \",type(h))\n",
    "\n",
    "i = {\"a\",\"b\"}\n",
    "print(i, \"= Data Type: \",type(i))"
   ]
  },
  {
   "cell_type": "markdown",
   "metadata": {},
   "source": [
    "# Q7) Github profile setup"
   ]
  },
  {
   "cell_type": "markdown",
   "metadata": {},
   "source": [
    "1) New Github account \n",
    "2) Create new repository\n",
    "3) Name: LetsUpgrade AI-ML\n",
    "4) Description: Assignments\n",
    "5) Click Create button\n",
    "6) Create a folder in the personal computer with name \"Day 3\" and save all the assignments in that folder.\n",
    "7) Drag the folder into the repository\n",
    "8) Commit changes\n",
    "9) Copy the folder link from the Github and paste it in the assignment google form."
   ]
  },
  {
   "cell_type": "code",
   "execution_count": null,
   "metadata": {},
   "outputs": [],
   "source": []
  }
 ],
 "metadata": {
  "kernelspec": {
   "display_name": "Python 3",
   "language": "python",
   "name": "python3"
  },
  "language_info": {
   "codemirror_mode": {
    "name": "ipython",
    "version": 3
   },
   "file_extension": ".py",
   "mimetype": "text/x-python",
   "name": "python",
   "nbconvert_exporter": "python",
   "pygments_lexer": "ipython3",
   "version": "3.7.6"
  }
 },
 "nbformat": 4,
 "nbformat_minor": 4
}
