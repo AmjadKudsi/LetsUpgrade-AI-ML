{
 "cells": [
  {
   "cell_type": "markdown",
   "metadata": {},
   "source": [
    "# Q1) Operations on Complex Numbers"
   ]
  },
  {
   "cell_type": "code",
   "execution_count": 8,
   "metadata": {},
   "outputs": [
    {
     "name": "stdout",
     "output_type": "stream",
     "text": [
      "Enter the real number of first complex number: 2\n",
      "Enter the imaginary number of first complex number: 4\n",
      "Enter the real number of second complex number: 1\n",
      "Enter the imaginary number of second complex number: 3\n",
      "\n",
      "\n",
      "Sum =  (3+7j)\n",
      "Difference =  (1+1j)\n",
      "Multiplication =  (-10+10j)\n",
      "\n",
      "\n",
      "Operations like floor division and modulo cannot be implemented on complex numbers.\n"
     ]
    }
   ],
   "source": [
    "import math\n",
    "\n",
    "a1 = float(input(\"Enter the real number of first complex number: \"))\n",
    "b1 = float(input(\"Enter the imaginary number of first complex number: \"))\n",
    "a2 = float(input(\"Enter the real number of second complex number: \"))\n",
    "b2 = float(input(\"Enter the imaginary number of second complex number: \"))\n",
    "\n",
    "add = complex(a1,b1) + complex(a2,b2)\n",
    "diff = complex(a1,b1) - complex(a2,b2)\n",
    "mult = complex(a1,b1) * complex(a2,b2)\n",
    "\n",
    "print(\"\\n\")\n",
    "print(\"Sum = \",add)\n",
    "print(\"Difference = \",diff)\n",
    "print(\"Multiplication = \",mult)\n",
    "print(\"\\n\")\n",
    "print(\"Operations like floor division and modulo cannot be implemented on complex numbers.\")"
   ]
  },
  {
   "cell_type": "markdown",
   "metadata": {},
   "source": [
    "# Q2) Range functions "
   ]
  },
  {
   "cell_type": "markdown",
   "metadata": {},
   "source": [
    "range() function in Python is of three types, depending on the number of inputs. They are as follows: \n",
    "1) range(n): This type of function takes only one integer as input, and returns a sequence of numbers, starting from zero to n-1, each number incremented by 1. \n",
    "2) range(s,e): This type of function takes 2 integers as input, and returns a sequence of numbers, starting from s to e, each number incremented by 1.\n",
    "3) range(s,e,ss): This type of function takes 3 integers as input, and returns a sequence of numbers, starting from s to e, each number incremented by a step-size of ss"
   ]
  },
  {
   "cell_type": "markdown",
   "metadata": {},
   "source": [
    "# Q3) Operations on numbers (>25 | <25)"
   ]
  },
  {
   "cell_type": "code",
   "execution_count": 22,
   "metadata": {},
   "outputs": [
    {
     "name": "stdout",
     "output_type": "stream",
     "text": [
      "Enter a number: 50\n",
      "Enter a smaller number: 25\n",
      "2.0\n"
     ]
    }
   ],
   "source": [
    "a = int(input(\"Enter a number: \"))\n",
    "b = int(input(\"Enter a smaller number: \"))\n",
    "\n",
    "diff = a-b\n",
    "\n",
    "if diff > 25:\n",
    "    print(a*b)\n",
    "    \n",
    "else:\n",
    "    print(a/b)"
   ]
  },
  {
   "cell_type": "markdown",
   "metadata": {},
   "source": [
    "# Q4) List divisible by 2"
   ]
  },
  {
   "cell_type": "code",
   "execution_count": 27,
   "metadata": {},
   "outputs": [
    {
     "name": "stdout",
     "output_type": "stream",
     "text": [
      "2\n",
      "14\n",
      "34\n",
      "62\n",
      "98\n"
     ]
    }
   ],
   "source": [
    "lst = [1,2,3,4,5,6,7,8,9,10]\n",
    "\n",
    "for i in lst:\n",
    "    if(i%2 == 0):\n",
    "        print(i*i-2)"
   ]
  },
  {
   "cell_type": "markdown",
   "metadata": {},
   "source": [
    "# Q5) Divide by 2 (>7)"
   ]
  },
  {
   "cell_type": "code",
   "execution_count": 29,
   "metadata": {},
   "outputs": [
    {
     "name": "stdout",
     "output_type": "stream",
     "text": [
      "21\n",
      "34\n"
     ]
    }
   ],
   "source": [
    "lst = (0, 1, 1, 2, 3, 5, 8, 13, 21, 34)\n",
    "\n",
    "for i in lst:\n",
    "    div = i/2\n",
    "    \n",
    "    if div > 7:\n",
    "        print(i)"
   ]
  },
  {
   "cell_type": "code",
   "execution_count": null,
   "metadata": {},
   "outputs": [],
   "source": []
  }
 ],
 "metadata": {
  "kernelspec": {
   "display_name": "Python 3",
   "language": "python",
   "name": "python3"
  },
  "language_info": {
   "codemirror_mode": {
    "name": "ipython",
    "version": 3
   },
   "file_extension": ".py",
   "mimetype": "text/x-python",
   "name": "python",
   "nbconvert_exporter": "python",
   "pygments_lexer": "ipython3",
   "version": "3.7.6"
  }
 },
 "nbformat": 4,
 "nbformat_minor": 4
}
