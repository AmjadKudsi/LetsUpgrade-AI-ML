{
 "cells": [
  {
   "cell_type": "markdown",
   "metadata": {},
   "source": [
    "# Q1) Non-even prime numbers"
   ]
  },
  {
   "cell_type": "code",
   "execution_count": 45,
   "metadata": {},
   "outputs": [
    {
     "name": "stdout",
     "output_type": "stream",
     "text": [
      "3 5 7 9 11 13 15 17 19 21 23 25 27 29 31 33 35 37 39 41 "
     ]
    }
   ],
   "source": [
    "count = 0\n",
    "    \n",
    "for i in range(100):\n",
    "    if count < 20:\n",
    "        for j in range(2,i):\n",
    "            if i%j == 0:\n",
    "                continue\n",
    "            else:\n",
    "                if i%2 == 0:\n",
    "                    continue\n",
    "                else:\n",
    "                    print(i,end=\" \")\n",
    "                    count = count + 1\n",
    "                    break"
   ]
  },
  {
   "cell_type": "markdown",
   "metadata": {},
   "source": [
    "# Q2) String functions"
   ]
  },
  {
   "cell_type": "code",
   "execution_count": 58,
   "metadata": {},
   "outputs": [
    {
     "name": "stdout",
     "output_type": "stream",
     "text": [
      "Capitalize function:  Abc abc\n",
      "Casefold function:  abc abc\n",
      "Count function:  1\n",
      "Encode function:  b'abc ABC'\n",
      "Index function:  5\n",
      "Isalnum function:  False\n",
      "Isalpha function:  False\n",
      "Isnumeric function:  False\n",
      "Isprintable function:  True\n",
      "Rpartition function:  ('abc ', 'A', 'BC')\n",
      "Startswith function:  True\n",
      "Endswith function:  False\n",
      "Swapcase function:  ABC abc\n",
      "Title function:  Abc Abc\n",
      "Upper function:  ABC ABC\n"
     ]
    }
   ],
   "source": [
    "string = \"abc ABC\"\n",
    "\n",
    "print(\"Capitalize function: \",string.capitalize()) # first letter capital\n",
    "print(\"Casefold function: \",string.casefold()) # all small letters\n",
    "print(\"Count function: \",string.count('a')) # number of times specified letter has occured\n",
    "print(\"Encode function: \",string.encode()) # encoded version of string\n",
    "print(\"Index function: \",string.index('B')) # index of specified letter\n",
    "print(\"Isalnum function: \",string.isalnum()) # is the string alphanumeric (not space)\n",
    "print(\"Isalpha function: \",string.isalpha()) # does the string consist of only alphabets (not even space)\n",
    "print(\"Isnumeric function: \",string.isnumeric()) # are all numbers in the string\n",
    "print(\"Isprintable function: \",string.isprintable()) # is the string printable\n",
    "print(\"Rpartition function: \",string.rpartition('A')) # divides string into 3 parts\n",
    "print(\"Startswith function: \",string.startswith('a')) # whether string starts with specified letter\n",
    "print(\"Endswith function: \",string.endswith('z')) # whether string ends with specified letter\n",
    "print(\"Swapcase function: \",string.swapcase()) # uppercase to lower and vice versea\n",
    "print(\"Title function: \",string.title()) # first letter of each word in uppercase\n",
    "print(\"Upper function: \",string.upper()) # all upper case"
   ]
  },
  {
   "cell_type": "markdown",
   "metadata": {},
   "source": [
    "# Q3) Palindrome / Anagram / None"
   ]
  },
  {
   "cell_type": "code",
   "execution_count": 2,
   "metadata": {},
   "outputs": [
    {
     "name": "stdout",
     "output_type": "stream",
     "text": [
      "Enter a string: talat\n",
      "Enter another string: atlta\n",
      "\n",
      "First string is a Palindrome\n",
      "\n",
      "Second string is a Palindrome\n",
      "\n",
      "Both strings are Anagram\n"
     ]
    }
   ],
   "source": [
    "string1 = str(input(\"Enter a string: \"))\n",
    "string2 = str(input(\"Enter another string: \"))\n",
    "\n",
    "condition = 0\n",
    "\n",
    "if string1 == string1[::-1]:\n",
    "    print(\"\\nFirst string is a Palindrome\")\n",
    "    condition = 1\n",
    "    \n",
    "if string2 == string2[::-1]:\n",
    "    print(\"\\nSecond string is a Palindrome\")\n",
    "    condition = 1\n",
    "    \n",
    "if sorted(string1)== sorted(string2):\n",
    "    print(\"\\nBoth strings are Anagram\")\n",
    "    condition = 1\n",
    "    \n",
    "elif condition == 0:\n",
    "    print(\"\\nThe strings are neither Palindrome nor Anagram\")"
   ]
  },
  {
   "cell_type": "markdown",
   "metadata": {},
   "source": [
    "# Q4) User defined function"
   ]
  },
  {
   "cell_type": "code",
   "execution_count": 15,
   "metadata": {},
   "outputs": [
    {
     "name": "stdout",
     "output_type": "stream",
     "text": [
      "Enter a string: Dr. Darshan Ingle @AI-ML Trainer\n",
      "\n",
      "\n",
      "drdarshaningleaimltrainer\n"
     ]
    }
   ],
   "source": [
    "def my_function(s): \n",
    "  \n",
    "    i = 0\n",
    "  \n",
    "    while i < len(s): \n",
    "  \n",
    "        if (ord(s[i]) < ord('a') or ord(s[i]) > ord('z')): \n",
    "\n",
    "            del s[i] \n",
    "            i -= 1\n",
    "        i += 1\n",
    "  \n",
    "    print(\"\".join(s)) \n",
    "  \n",
    "\n",
    "string = str(input(\"Enter a string: \"))\n",
    "print(\"\\n\")\n",
    "string = string.lower()\n",
    "string = [i for i in string] \n",
    "my_function(string) "
   ]
  },
  {
   "cell_type": "code",
   "execution_count": null,
   "metadata": {},
   "outputs": [],
   "source": []
  }
 ],
 "metadata": {
  "kernelspec": {
   "display_name": "Python 3",
   "language": "python",
   "name": "python3"
  },
  "language_info": {
   "codemirror_mode": {
    "name": "ipython",
    "version": 3
   },
   "file_extension": ".py",
   "mimetype": "text/x-python",
   "name": "python",
   "nbconvert_exporter": "python",
   "pygments_lexer": "ipython3",
   "version": "3.7.6"
  }
 },
 "nbformat": 4,
 "nbformat_minor": 4
}
